{
 "cells": [
  {
   "cell_type": "markdown",
   "metadata": {},
   "source": [
    "# Codility Lessons"
   ]
  },
  {
   "cell_type": "markdown",
   "metadata": {},
   "source": [
    "## -> Binary Gap"
   ]
  },
  {
   "cell_type": "markdown",
   "metadata": {},
   "source": [
    "A binary gap within a positive integer N is any maximal sequence of consecutive zeros that is surrounded by ones at both ends in the binary representation of N.\n",
    "\n",
    "For example, number 9 has binary representation 1001 and contains a binary gap of length 2. The number 529 has binary representation 1000010001 and contains two binary gaps: one of length 4 and one of length 3. The number 20 has binary representation 10100 and contains one binary gap of length 1. The number 15 has binary representation 1111 and has no binary gaps. The number 32 has binary representation 100000 and has no binary gaps.\n",
    "\n",
    "Write a function:\n",
    "\n",
    "function solution(N);\n",
    "\n",
    "that, given a positive integer N, returns the length of its longest binary gap. The function should return 0 if N doesn't contain a binary gap.\n",
    "\n",
    "For example, given N = 1041 the function should return 5, because N has binary representation 10000010001 and so its longest binary gap is of length 5. Given N = 32 the function should return 0, because N has binary representation '100000' and thus no binary gaps.\n",
    "\n",
    "Write an efficient algorithm for the following assumptions:\n",
    "    -> N is an integer within the range [1..2,147,483,647]."
   ]
  },
  {
   "cell_type": "code",
   "execution_count": null,
   "metadata": {
    "vscode": {
     "languageId": "javascript"
    }
   },
   "outputs": [],
   "source": [
    "function getLongestGap(N) {\n",
    "    const binaryNumber = (N >>> 0).toString(2);\n",
    "\n",
    "    let gap = 0;\n",
    "    let allGaps = {};\n",
    "    let response = 0;\n",
    "\n",
    "    for (let i = 0; i < binaryNumber.length; i ++){\n",
    "        if(binaryNumber[i] == 1){\n",
    "            for (let j = i + 1; j < binaryNumber.length; j ++){\n",
    "                if(binaryNumber[j] == 0){\n",
    "                    gap += 1;\n",
    "                } else {\n",
    "                    const gapName = `${i}_${j}gap`;\n",
    "                    allGaps[gapName] = gap;\n",
    "                    gap = 0;\n",
    "                    i = j;\n",
    "                }\n",
    "            }\n",
    "        }\n",
    "    }\n",
    "\n",
    "    // console.log(\"allGaps =>\", allGaps);\n",
    "\n",
    "    Object.values(allGaps).forEach((value)=> {\n",
    "        if(Number(value) > response){\n",
    "            response = Number(value);\n",
    "        }\n",
    "    })\n",
    "\n",
    "    return response;\n",
    "}"
   ]
  },
  {
   "cell_type": "markdown",
   "metadata": {},
   "source": [
    "## -> Perm Missing Elem"
   ]
  },
  {
   "cell_type": "markdown",
   "metadata": {},
   "source": [
    "An array A consisting of N different integers is given. The array contains integers in the range [1..(N + 1)], which means that exactly one element is missing.\n",
    "\n",
    "Your goal is to find that missing element.\n",
    "\n",
    "Write a function:\n",
    "\n",
    "function solution(A);\n",
    "\n",
    "that, given an array A, returns the value of the missing element.\n",
    "\n",
    "For example, given array A such that:\n",
    "\n",
    "  A[0] = 2\n",
    "  A[1] = 3\n",
    "  A[2] = 1\n",
    "  A[3] = 5\n",
    "the function should return 4, as it is the missing element.\n",
    "\n",
    "Write an efficient algorithm for the following assumptions:\n",
    "    -> N is an integer within the range [0..100,000];\n",
    "    -> the elements of A are all distinct;\n",
    "    -> each element of array A is an integer within the range [1..(N + 1)]."
   ]
  },
  {
   "cell_type": "code",
   "execution_count": null,
   "metadata": {},
   "outputs": [],
   "source": [
    "function getMissingElem(array : Array<number>): number {\n",
    "    array.sort((a,b) => a - b);\n",
    "    let counter = 1;\n",
    "\n",
    "    array.some((number) => {\n",
    "        if(number === counter){\n",
    "            counter ++\n",
    "        } else {\n",
    "            return true\n",
    "        }\n",
    "    })\n",
    "    return counter;\n",
    "}"
   ]
  }
 ],
 "metadata": {
  "kernelspec": {
   "display_name": "Deno",
   "language": "typescript",
   "name": "deno"
  },
  "language_info": {
   "file_extension": ".ts",
   "mimetype": "text/x.typescript",
   "name": "typescript",
   "nb_converter": "script",
   "pygments_lexer": "typescript",
   "version": "5.3.3"
  }
 },
 "nbformat": 4,
 "nbformat_minor": 2
}
