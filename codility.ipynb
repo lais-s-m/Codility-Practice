{
 "cells": [
  {
   "cell_type": "markdown",
   "metadata": {},
   "source": [
    "# Codility Lessons"
   ]
  },
  {
   "cell_type": "markdown",
   "metadata": {},
   "source": [
    "## -> Binary Gap"
   ]
  },
  {
   "cell_type": "markdown",
   "metadata": {},
   "source": [
    "A binary gap within a positive integer N is any maximal sequence of consecutive zeros that is surrounded by ones at both ends in the binary representation of N.\n",
    "\n",
    "For example, number 9 has binary representation 1001 and contains a binary gap of length 2. The number 529 has binary representation 1000010001 and contains two binary gaps: one of length 4 and one of length 3. The number 20 has binary representation 10100 and contains one binary gap of length 1. The number 15 has binary representation 1111 and has no binary gaps. The number 32 has binary representation 100000 and has no binary gaps.\n",
    "\n",
    "Write a function:\n",
    "\n",
    "function solution(N);\n",
    "\n",
    "that, given a positive integer N, returns the length of its longest binary gap. The function should return 0 if N doesn't contain a binary gap.\n",
    "\n",
    "For example, given N = 1041 the function should return 5, because N has binary representation 10000010001 and so its longest binary gap is of length 5. Given N = 32 the function should return 0, because N has binary representation '100000' and thus no binary gaps.\n",
    "\n",
    "Write an efficient algorithm for the following assumptions:\n",
    "    -> N is an integer within the range [1..2,147,483,647]."
   ]
  },
  {
   "cell_type": "code",
   "execution_count": null,
   "metadata": {
    "vscode": {
     "languageId": "javascript"
    }
   },
   "outputs": [],
   "source": [
    "function getLongestGap(N) {\n",
    "    const binaryNumber = (N >>> 0).toString(2);\n",
    "\n",
    "    let gap = 0;\n",
    "    let allGaps = {};\n",
    "    let response = 0;\n",
    "\n",
    "    for (let i = 0; i < binaryNumber.length; i ++){\n",
    "        if(binaryNumber[i] == 1){\n",
    "            for (let j = i + 1; j < binaryNumber.length; j ++){\n",
    "                if(binaryNumber[j] == 0){\n",
    "                    gap += 1;\n",
    "                } else {\n",
    "                    const gapName = `${i}_${j}gap`;\n",
    "                    allGaps[gapName] = gap;\n",
    "                    gap = 0;\n",
    "                    i = j;\n",
    "                }\n",
    "            }\n",
    "        }\n",
    "    }\n",
    "\n",
    "    // console.log(\"allGaps =>\", allGaps);\n",
    "\n",
    "    Object.values(allGaps).forEach((value)=> {\n",
    "        if(Number(value) > response){\n",
    "            response = Number(value);\n",
    "        }\n",
    "    })\n",
    "\n",
    "    return response;\n",
    "}"
   ]
  },
  {
   "cell_type": "markdown",
   "metadata": {},
   "source": [
    "## -> CyclicRotation"
   ]
  },
  {
   "cell_type": "markdown",
   "metadata": {},
   "source": [
    "An array A consisting of N integers is given. Rotation of the array means that each element is shifted right by one index, and the last element of the array is moved to the first place. For example, the rotation of array A = [3, 8, 9, 7, 6] is [6, 3, 8, 9, 7] (elements are shifted right by one index and 6 is moved to the first place).\n",
    "\n",
    "The goal is to rotate array A K times; that is, each element of A will be shifted to the right K times.\n",
    "\n",
    "Write a function:\n",
    "\n",
    "function solution(A, K);\n",
    "\n",
    "that, given an array A consisting of N integers and an integer K, returns the array A rotated K times.\n",
    "\n",
    "For example, given\n",
    "    A = [3, 8, 9, 7, 6]\n",
    "    K = 3\n",
    "the function should return [9, 7, 6, 3, 8]. Three rotations were made:\n",
    "    [3, 8, 9, 7, 6] -> [6, 3, 8, 9, 7]\n",
    "    [6, 3, 8, 9, 7] -> [7, 6, 3, 8, 9]\n",
    "    [7, 6, 3, 8, 9] -> [9, 7, 6, 3, 8]\n",
    "\n",
    "For another example, given\n",
    "    A = [0, 0, 0]\n",
    "    K = 1\n",
    "the function should return [0, 0, 0]\n",
    "\n",
    "Given\n",
    "    A = [1, 2, 3, 4]\n",
    "    K = 4\n",
    "the function should return [1, 2, 3, 4]\n",
    "\n",
    "Assume that:\n",
    "    -> N and K are integers within the range [0..100];\n",
    "    -> each element of array A is an integer within the range [−1,000..1,000].\n",
    "\n",
    "In your solution, focus on correctness. The performance of your solution will not be the focus of the assessment."
   ]
  },
  {
   "cell_type": "code",
   "execution_count": null,
   "metadata": {
    "vscode": {
     "languageId": "javascript"
    }
   },
   "outputs": [],
   "source": [
    "function rotateArray(array, times) {\n",
    "    if (array.length !== 0){\n",
    "        while (times > 0) {\n",
    "            const lastElem = array[array.length - 1];\n",
    "            array.pop()\n",
    "            array = [lastElem, ...array];\n",
    "            times -= 1;\n",
    "        }\n",
    "    }\n",
    "    \n",
    "    return array;\n",
    "}"
   ]
  },
  {
   "cell_type": "markdown",
   "metadata": {},
   "source": [
    "## -> OddOccurrencesInArray"
   ]
  },
  {
   "cell_type": "markdown",
   "metadata": {},
   "source": [
    "A non-empty array A consisting of N integers is given. The array contains an odd number of elements, and each element of the array can be paired with another element that has the same value, except for one element that is left unpaired.\n",
    "\n",
    "For example, in array A such that:\n",
    "\n",
    "  A[0] = 9  A[1] = 3  A[2] = 9\n",
    "  A[3] = 3  A[4] = 9  A[5] = 7\n",
    "  A[6] = 9\n",
    "the elements at indexes 0 and 2 have value 9,\n",
    "the elements at indexes 1 and 3 have value 3,\n",
    "the elements at indexes 4 and 6 have value 9,\n",
    "the element at index 5 has value 7 and is unpaired.\n",
    "Write a function:\n",
    "\n",
    "function solution(A);\n",
    "\n",
    "that, given an array A consisting of N integers fulfilling the above conditions, returns the value of the unpaired element.\n",
    "\n",
    "For example, given array A such that:\n",
    "\n",
    "  A[0] = 9  A[1] = 3  A[2] = 9\n",
    "  A[3] = 3  A[4] = 9  A[5] = 7\n",
    "  A[6] = 9\n",
    "the function should return 7, as explained in the example above.\n",
    "\n",
    "Write an efficient algorithm for the following assumptions:\n",
    "\n",
    "N is an odd integer within the range [1..1,000,000];\n",
    "each element of array A is an integer within the range [1..1,000,000,000];\n",
    "all but one of the values in A occur an even number of times."
   ]
  },
  {
   "cell_type": "code",
   "execution_count": null,
   "metadata": {
    "vscode": {
     "languageId": "javascript"
    }
   },
   "outputs": [],
   "source": [
    "function getTheUnpairedNumber(array) {\n",
    "    const store = {};\n",
    "\n",
    "    array.forEach((elem) => {\n",
    "        if(store[elem] && store[elem] === 1){\n",
    "            delete store[elem];\n",
    "        } else {\n",
    "            store[elem] = 1;\n",
    "        }\n",
    "    })\n",
    "\n",
    "    return Number(Object.keys(store)[0]) || 1;\n",
    "}"
   ]
  },
  {
   "cell_type": "markdown",
   "metadata": {},
   "source": [
    "## -> Perm Missing Elem"
   ]
  },
  {
   "cell_type": "markdown",
   "metadata": {},
   "source": [
    "An array A consisting of N different integers is given. The array contains integers in the range [1..(N + 1)], which means that exactly one element is missing.\n",
    "\n",
    "Your goal is to find that missing element.\n",
    "\n",
    "Write a function:\n",
    "\n",
    "function solution(A);\n",
    "\n",
    "that, given an array A, returns the value of the missing element.\n",
    "\n",
    "For example, given array A such that:\n",
    "\n",
    "  A[0] = 2\n",
    "  A[1] = 3\n",
    "  A[2] = 1\n",
    "  A[3] = 5\n",
    "the function should return 4, as it is the missing element.\n",
    "\n",
    "Write an efficient algorithm for the following assumptions:\n",
    "    -> N is an integer within the range [0..100,000];\n",
    "    -> the elements of A are all distinct;\n",
    "    -> each element of array A is an integer within the range [1..(N + 1)]."
   ]
  },
  {
   "cell_type": "code",
   "execution_count": null,
   "metadata": {},
   "outputs": [],
   "source": [
    "function getMissingElem(array : Array<number>): number {\n",
    "    array.sort((a,b) => a - b);\n",
    "    let counter = 1;\n",
    "\n",
    "    array.some((number) => {\n",
    "        if(number === counter){\n",
    "            counter ++\n",
    "        } else {\n",
    "            return true\n",
    "        }\n",
    "    })\n",
    "    return counter;\n",
    "}"
   ]
  }
 ],
 "metadata": {
  "kernelspec": {
   "display_name": "Deno",
   "language": "typescript",
   "name": "deno"
  },
  "language_info": {
   "file_extension": ".ts",
   "mimetype": "text/x.typescript",
   "name": "typescript",
   "nb_converter": "script",
   "pygments_lexer": "typescript",
   "version": "5.3.3"
  }
 },
 "nbformat": 4,
 "nbformat_minor": 2
}
